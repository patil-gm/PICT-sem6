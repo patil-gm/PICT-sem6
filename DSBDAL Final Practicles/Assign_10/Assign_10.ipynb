{
 "cells": [
  {
   "cell_type": "markdown",
   "id": "783b9b91",
   "metadata": {},
   "source": [
    "# Assignment 10\n",
    "\n",
    "1. Extract Sample document and apply following document preprocessing methods: Tokenization, POS Tagging, stop words removal, Stemming and Lemmatization.\n",
    "2. Create representation of documents by calculating Term Frequency and Inverse Document Frequency."
   ]
  },
  {
   "cell_type": "code",
   "execution_count": 1,
   "id": "c588bd0a",
   "metadata": {},
   "outputs": [],
   "source": [
    "import nltk\n",
    "from nltk.corpus import stopwords\n",
    "from nltk.tokenize import word_tokenize,sent_tokenize\n",
    "from nltk.stem import PorterStemmer, WordNetLemmatizer\n",
    "from nltk import pos_tag\n",
    "from sklearn.feature_extraction.text import TfidfVectorizer"
   ]
  },
  {
   "cell_type": "code",
   "execution_count": null,
   "id": "823af6e5",
   "metadata": {},
   "outputs": [],
   "source": [
    "nltk.download('punkt')"
   ]
  },
  {
   "cell_type": "code",
   "execution_count": 2,
   "id": "d213b128",
   "metadata": {},
   "outputs": [],
   "source": [
    "file_path = \"patil_gm.txt\"\n",
    "with open(file_path, \"r\") as file:\n",
    "    document = file.read()"
   ]
  },
  {
   "cell_type": "code",
   "execution_count": null,
   "id": "d60a1c81",
   "metadata": {},
   "outputs": [],
   "source": [
    "nltk.download('averaged_perceptron_tagger')"
   ]
  },
  {
   "cell_type": "code",
   "execution_count": 3,
   "id": "d2883307",
   "metadata": {},
   "outputs": [],
   "source": [
    "# Tokenization\n",
    "tokens = word_tokenize(document)\n",
    "sentences=sent_tokenize(document)"
   ]
  },
  {
   "cell_type": "code",
   "execution_count": 4,
   "id": "4cc12d4a",
   "metadata": {},
   "outputs": [],
   "source": [
    "# POS Tagging\n",
    "pos_tags = pos_tag(tokens)"
   ]
  },
  {
   "cell_type": "code",
   "execution_count": null,
   "id": "fb449af9",
   "metadata": {},
   "outputs": [],
   "source": [
    "nltk.download('stopwords')"
   ]
  },
  {
   "cell_type": "code",
   "execution_count": 5,
   "id": "13c7150a",
   "metadata": {},
   "outputs": [],
   "source": [
    "# Stop Words Removal\n",
    "stop_words = set(stopwords.words('english'))\n",
    "# filtered_tokens = [token for token in tokens if token.lower() not in stop_words]\n",
    "# stop_words\n",
    "filtered_tokens=[]\n",
    "for token in tokens:\n",
    "    if token not in stop_words:\n",
    "        filtered_tokens.append(token)\n",
    "        \n",
    "    "
   ]
  },
  {
   "cell_type": "code",
   "execution_count": 6,
   "id": "542ee071",
   "metadata": {},
   "outputs": [],
   "source": [
    "# Stemming\n",
    "stemmer = PorterStemmer()\n",
    "stemmed_tokens = [stemmer.stem(token) for token in filtered_tokens]"
   ]
  },
  {
   "cell_type": "code",
   "execution_count": null,
   "id": "b25b9933",
   "metadata": {},
   "outputs": [],
   "source": [
    "nltk.download('wordnet')"
   ]
  },
  {
   "cell_type": "code",
   "execution_count": 7,
   "id": "d20b889b",
   "metadata": {},
   "outputs": [],
   "source": [
    "# Lemmatization\n",
    "lemmatizer = WordNetLemmatizer()\n",
    "lemmatized_tokens = [lemmatizer.lemmatize(token) for token in filtered_tokens]"
   ]
  },
  {
   "cell_type": "code",
   "execution_count": 8,
   "id": "3a145129",
   "metadata": {},
   "outputs": [],
   "source": [
    "# Term Frequency-Inverse Document Frequency (TF-IDF) representation\n",
    "documents = [document]\n",
    "vectorizer = TfidfVectorizer()\n",
    "tfidf_matrix = vectorizer.fit_transform(documents)"
   ]
  },
  {
   "cell_type": "code",
   "execution_count": 9,
   "id": "311c6cb5",
   "metadata": {},
   "outputs": [
    {
     "name": "stdout",
     "output_type": "stream",
     "text": [
      "Tokens: ['Hello', 'people', '...', '!', 'how', 'is', 'going', 'your', 'preparation', 'of', 'DSBDAL', 'Practicles', 'hope', 'this', 'repository', 'helping', 'you', 'out']\n",
      "Sentences: ['Hello people...!', 'how is going your preparation of DSBDAL Practicles\\nhope this repository helping you out']\n",
      "POS Tags: [('Hello', 'NNP'), ('people', 'NNS'), ('...', ':'), ('!', '.'), ('how', 'WRB'), ('is', 'VBZ'), ('going', 'VBG'), ('your', 'PRP$'), ('preparation', 'NN'), ('of', 'IN'), ('DSBDAL', 'NNP'), ('Practicles', 'NNP'), ('hope', 'VBP'), ('this', 'DT'), ('repository', 'NN'), ('helping', 'VBG'), ('you', 'PRP'), ('out', 'IN')]\n",
      "Filtered Tokens (after stop words removal): ['Hello', 'people', '...', '!', 'going', 'preparation', 'DSBDAL', 'Practicles', 'hope', 'repository', 'helping']\n",
      "Stemmed Tokens: ['hello', 'peopl', '...', '!', 'go', 'prepar', 'dsbdal', 'practicl', 'hope', 'repositori', 'help']\n",
      "Lemmatized Tokens: ['Hello', 'people', '...', '!', 'going', 'preparation', 'DSBDAL', 'Practicles', 'hope', 'repository', 'helping']\n",
      "TF-IDF Matrix:\n",
      "[[0.25 0.25 0.25 0.25 0.25 0.25 0.25 0.25 0.25 0.25 0.25 0.25 0.25 0.25\n",
      "  0.25 0.25]]\n"
     ]
    }
   ],
   "source": [
    "# Print the results\n",
    "print(\"Tokens:\", tokens)\n",
    "print(\"Sentences:\", sentences)\n",
    "print(\"POS Tags:\", pos_tags)\n",
    "print(\"Filtered Tokens (after stop words removal):\", filtered_tokens)\n",
    "print(\"Stemmed Tokens:\", stemmed_tokens)\n",
    "print(\"Lemmatized Tokens:\", lemmatized_tokens)\n",
    "print(\"TF-IDF Matrix:\")\n",
    "print(tfidf_matrix.toarray())\n",
    "# print(\"Feature Names:\", vectorizer.get_feature_names())"
   ]
  },
  {
   "cell_type": "code",
   "execution_count": null,
   "id": "fb00b17f",
   "metadata": {},
   "outputs": [],
   "source": []
  },
  {
   "cell_type": "code",
   "execution_count": null,
   "id": "d516a434",
   "metadata": {},
   "outputs": [],
   "source": []
  }
 ],
 "metadata": {
  "kernelspec": {
   "display_name": "Python 3 (ipykernel)",
   "language": "python",
   "name": "python3"
  },
  "language_info": {
   "codemirror_mode": {
    "name": "ipython",
    "version": 3
   },
   "file_extension": ".py",
   "mimetype": "text/x-python",
   "name": "python",
   "nbconvert_exporter": "python",
   "pygments_lexer": "ipython3",
   "version": "3.11.3"
  }
 },
 "nbformat": 4,
 "nbformat_minor": 5
}
